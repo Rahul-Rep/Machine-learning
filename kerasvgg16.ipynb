{
 "cells": [
  {
   "cell_type": "code",
   "execution_count": 1,
   "id": "6999ae66",
   "metadata": {},
   "outputs": [],
   "source": [
    "import cv2\n",
    "import numpy as np\n",
    "import os\n",
    "from keras.preprocessing.image import ImageDataGenerator\n",
    "from keras.layers import Dense,Flatten,Conv2D,Activation,Dropout\n",
    "import tensorflow.keras.backend as K\n",
    "import keras\n",
    "from keras.models import Sequential, Model\n",
    "from keras.models import load_model\n",
    "from keras.optimizers import SGD\n",
    "from keras.callbacks import EarlyStopping,ModelCheckpoint\n",
    "from keras.layers import MaxPool2D\n",
    "import tensorflow as tf\n",
    "from tensorflow.python.keras.backend import get_session"
   ]
  },
  {
   "cell_type": "code",
   "execution_count": 2,
   "id": "35222cbd",
   "metadata": {},
   "outputs": [],
   "source": [
    "train_path=\"C:/Users/admin/Desktop/New folder/train\"\n",
    "test_path=\"C:/Users/admin/Desktop/New folder/test\""
   ]
  },
  {
   "cell_type": "code",
   "execution_count": 3,
   "id": "5c9f44f1",
   "metadata": {},
   "outputs": [],
   "source": [
    "image_dog=cv2.imread(\"C:/Users/admin/Desktop/New folder/train/cat.1.jpg\")"
   ]
  },
  {
   "cell_type": "code",
   "execution_count": 4,
   "id": "31321198",
   "metadata": {
    "scrolled": false
   },
   "outputs": [],
   "source": [
    "from matplotlib import pyplot as plt"
   ]
  },
  {
   "cell_type": "code",
   "execution_count": 5,
   "id": "4e5fc400",
   "metadata": {},
   "outputs": [],
   "source": [
    "train_datagen = ImageDataGenerator(zoom_range=0.15,width_shift_range=0.2,height_shift_range=0.2,shear_range=0.15)\n",
    "test_datagen = ImageDataGenerator()"
   ]
  },
  {
   "cell_type": "code",
   "execution_count": 6,
   "id": "32939b03",
   "metadata": {},
   "outputs": [
    {
     "name": "stdout",
     "output_type": "stream",
     "text": [
      "Found 25000 images belonging to 1 classes.\n",
      "Found 12500 images belonging to 1 classes.\n"
     ]
    }
   ],
   "source": [
    "train_generator = train_datagen.flow_from_directory(\"C:/Users/admin/Desktop/New folder/train\",target_size=(224, 224),batch_size=32,shuffle=True)\n",
    "test_generator = test_datagen.flow_from_directory(\"C:/Users/admin/Desktop/New folder/test\",target_size=(224,224),batch_size=32,shuffle=False)"
   ]
  },
  {
   "cell_type": "code",
   "execution_count": 7,
   "id": "3ca55178",
   "metadata": {},
   "outputs": [],
   "source": [
    "def VGG16():\n",
    "    model = Sequential()\n",
    "    model.add(Conv2D(input_shape=(224,224,3),filters=64,kernel_size=(3,3),padding=\"same\", activation=\"relu\"))\n",
    "    model.add(Conv2D(filters=64,kernel_size=(3,3),padding=\"same\", activation=\"relu\"))\n",
    "    model.add(MaxPool2D(pool_size=(2,2),strides=(2,2)))\n",
    "    model.add(Conv2D(filters=128, kernel_size=(3,3), padding=\"same\", activation=\"relu\"))\n",
    "    model.add(Conv2D(filters=128, kernel_size=(3,3), padding=\"same\", activation=\"relu\"))\n",
    "    model.add(MaxPool2D(pool_size=(2,2),strides=(2,2)))\n",
    "    model.add(Conv2D(filters=256, kernel_size=(3,3), padding=\"same\", activation=\"relu\"))\n",
    "    model.add(Conv2D(filters=256, kernel_size=(3,3), padding=\"same\", activation=\"relu\"))\n",
    "    model.add(Conv2D(filters=256, kernel_size=(3,3), padding=\"same\", activation=\"relu\"))\n",
    "    model.add(MaxPool2D(pool_size=(2,2),strides=(2,2)))\n",
    "    model.add(Conv2D(filters=512, kernel_size=(3,3), padding=\"same\", activation=\"relu\"))\n",
    "    model.add(Conv2D(filters=512, kernel_size=(3,3), padding=\"same\", activation=\"relu\"))\n",
    "    model.add(Conv2D(filters=512, kernel_size=(3,3), padding=\"same\", activation=\"relu\"))\n",
    "    model.add(MaxPool2D(pool_size=(2,2),strides=(2,2)))\n",
    "    model.add(Conv2D(filters=512, kernel_size=(3,3), padding=\"same\", activation=\"relu\"))\n",
    "    model.add(Conv2D(filters=512, kernel_size=(3,3), padding=\"same\", activation=\"relu\"))\n",
    "    model.add(Conv2D(filters=512, kernel_size=(3,3), padding=\"same\", activation=\"relu\"))\n",
    "    model.add(MaxPool2D(pool_size=(2,2),strides=(2,2),name='vgg16'))\n",
    "    model.add(Flatten(name='flatten'))\n",
    "    model.add(Dense(256, activation='relu', name='fc1'))\n",
    "    model.add(Dense(128, activation='relu', name='fc2'))\n",
    "    model.add(Dense(1, activation='sigmoid', name='output'))\n",
    "    return model"
   ]
  },
  {
   "cell_type": "code",
   "execution_count": 8,
   "id": "b1d2617b",
   "metadata": {},
   "outputs": [],
   "source": [
    "model=VGG16()"
   ]
  },
  {
   "cell_type": "code",
   "execution_count": 9,
   "id": "1330aafa",
   "metadata": {},
   "outputs": [
    {
     "name": "stdout",
     "output_type": "stream",
     "text": [
      "Model: \"sequential\"\n",
      "_________________________________________________________________\n",
      "Layer (type)                 Output Shape              Param #   \n",
      "=================================================================\n",
      "conv2d (Conv2D)              (None, 224, 224, 64)      1792      \n",
      "_________________________________________________________________\n",
      "conv2d_1 (Conv2D)            (None, 224, 224, 64)      36928     \n",
      "_________________________________________________________________\n",
      "max_pooling2d (MaxPooling2D) (None, 112, 112, 64)      0         \n",
      "_________________________________________________________________\n",
      "conv2d_2 (Conv2D)            (None, 112, 112, 128)     73856     \n",
      "_________________________________________________________________\n",
      "conv2d_3 (Conv2D)            (None, 112, 112, 128)     147584    \n",
      "_________________________________________________________________\n",
      "max_pooling2d_1 (MaxPooling2 (None, 56, 56, 128)       0         \n",
      "_________________________________________________________________\n",
      "conv2d_4 (Conv2D)            (None, 56, 56, 256)       295168    \n",
      "_________________________________________________________________\n",
      "conv2d_5 (Conv2D)            (None, 56, 56, 256)       590080    \n",
      "_________________________________________________________________\n",
      "conv2d_6 (Conv2D)            (None, 56, 56, 256)       590080    \n",
      "_________________________________________________________________\n",
      "max_pooling2d_2 (MaxPooling2 (None, 28, 28, 256)       0         \n",
      "_________________________________________________________________\n",
      "conv2d_7 (Conv2D)            (None, 28, 28, 512)       1180160   \n",
      "_________________________________________________________________\n",
      "conv2d_8 (Conv2D)            (None, 28, 28, 512)       2359808   \n",
      "_________________________________________________________________\n",
      "conv2d_9 (Conv2D)            (None, 28, 28, 512)       2359808   \n",
      "_________________________________________________________________\n",
      "max_pooling2d_3 (MaxPooling2 (None, 14, 14, 512)       0         \n",
      "_________________________________________________________________\n",
      "conv2d_10 (Conv2D)           (None, 14, 14, 512)       2359808   \n",
      "_________________________________________________________________\n",
      "conv2d_11 (Conv2D)           (None, 14, 14, 512)       2359808   \n",
      "_________________________________________________________________\n",
      "conv2d_12 (Conv2D)           (None, 14, 14, 512)       2359808   \n",
      "_________________________________________________________________\n",
      "vgg16 (MaxPooling2D)         (None, 7, 7, 512)         0         \n",
      "_________________________________________________________________\n",
      "flatten (Flatten)            (None, 25088)             0         \n",
      "_________________________________________________________________\n",
      "fc1 (Dense)                  (None, 256)               6422784   \n",
      "_________________________________________________________________\n",
      "fc2 (Dense)                  (None, 128)               32896     \n",
      "_________________________________________________________________\n",
      "output (Dense)               (None, 1)                 129       \n",
      "=================================================================\n",
      "Total params: 21,170,497\n",
      "Trainable params: 21,170,497\n",
      "Non-trainable params: 0\n",
      "_________________________________________________________________\n"
     ]
    }
   ],
   "source": [
    "model.summary()"
   ]
  },
  {
   "cell_type": "code",
   "execution_count": 10,
   "id": "d5be4b6e",
   "metadata": {},
   "outputs": [],
   "source": [
    "Vgg16 = Model(inputs=model.input, outputs=model.get_layer('vgg16').output)"
   ]
  },
  {
   "cell_type": "code",
   "execution_count": 11,
   "id": "153f1bee",
   "metadata": {
    "scrolled": true
   },
   "outputs": [],
   "source": [
    "Vgg16.load_weights(\"C:/Users/admin/Desktop/New folder/vgg16_weights_tf_dim_ordering_tf_kernels_notop.h5\")\n",
    "for layer in Vgg16.layers:\n",
    "    layer.trainable = False"
   ]
  },
  {
   "cell_type": "code",
   "execution_count": 12,
   "id": "18caa387",
   "metadata": {},
   "outputs": [
    {
     "name": "stdout",
     "output_type": "stream",
     "text": [
      "<tensorflow.python.keras.layers.convolutional.Conv2D object at 0x0000028C9BD36E20> False\n",
      "<tensorflow.python.keras.layers.convolutional.Conv2D object at 0x0000028C9BDA3D90> False\n",
      "<tensorflow.python.keras.layers.pooling.MaxPooling2D object at 0x0000028C9BDA3C10> False\n",
      "<tensorflow.python.keras.layers.convolutional.Conv2D object at 0x0000028C9BE61B50> False\n",
      "<tensorflow.python.keras.layers.convolutional.Conv2D object at 0x0000028C9BE73370> False\n",
      "<tensorflow.python.keras.layers.pooling.MaxPooling2D object at 0x0000028C9BE73C10> False\n",
      "<tensorflow.python.keras.layers.convolutional.Conv2D object at 0x0000028C9BE7DB80> False\n",
      "<tensorflow.python.keras.layers.convolutional.Conv2D object at 0x0000028C9BE84FD0> False\n",
      "<tensorflow.python.keras.layers.convolutional.Conv2D object at 0x0000028C9BE917C0> False\n",
      "<tensorflow.python.keras.layers.pooling.MaxPooling2D object at 0x0000028C9BE91310> False\n",
      "<tensorflow.python.keras.layers.convolutional.Conv2D object at 0x0000028C9BE94520> False\n",
      "<tensorflow.python.keras.layers.convolutional.Conv2D object at 0x0000028C9BEA2550> False\n",
      "<tensorflow.python.keras.layers.convolutional.Conv2D object at 0x0000028C9BEAE580> False\n",
      "<tensorflow.python.keras.layers.pooling.MaxPooling2D object at 0x0000028C9BEB2C40> False\n",
      "<tensorflow.python.keras.layers.convolutional.Conv2D object at 0x0000028C9BEAEBB0> False\n",
      "<tensorflow.python.keras.layers.convolutional.Conv2D object at 0x0000028C9BEC1970> False\n",
      "<tensorflow.python.keras.layers.convolutional.Conv2D object at 0x0000028C9BECC550> False\n",
      "<tensorflow.python.keras.layers.pooling.MaxPooling2D object at 0x0000028C9BEB2C70> False\n",
      "<tensorflow.python.keras.layers.core.Flatten object at 0x0000028C9BED16D0> True\n",
      "<tensorflow.python.keras.layers.core.Dense object at 0x0000028C9BED8460> True\n",
      "<tensorflow.python.keras.layers.core.Dense object at 0x0000028C9BED8940> True\n",
      "<tensorflow.python.keras.layers.core.Dense object at 0x0000028C9BEB2880> True\n"
     ]
    }
   ],
   "source": [
    "for layer in model.layers:\n",
    "    print(layer, layer.trainable)"
   ]
  },
  {
   "cell_type": "code",
   "execution_count": 13,
   "id": "f76b8320",
   "metadata": {},
   "outputs": [],
   "source": [
    "opt = SGD(lr=1e-4, momentum=0.9)\n",
    "model.compile(loss=\"binary_crossentropy\", optimizer=opt,metrics=[\"accuracy\"])"
   ]
  },
  {
   "cell_type": "code",
   "execution_count": 14,
   "id": "50ebe381",
   "metadata": {},
   "outputs": [],
   "source": [
    "es=EarlyStopping(monitor='val_accuracy', mode='max', verbose=1, patience=20)"
   ]
  },
  {
   "cell_type": "code",
   "execution_count": 15,
   "id": "5996a74a",
   "metadata": {},
   "outputs": [],
   "source": [
    "mc = ModelCheckpoint('C:/Users/admin/Desktop/New folder/best_model.h5', monitor='val_accuracy', mode='max', save_best_only=True)"
   ]
  },
  {
   "cell_type": "code",
   "execution_count": 16,
   "id": "7b7a1f09",
   "metadata": {},
   "outputs": [],
   "source": [
    "model.load_weights(\"C:/Users/admin/Desktop/New folder/best_model.h5\")"
   ]
  },
  {
   "cell_type": "code",
   "execution_count": 17,
   "id": "2de07459",
   "metadata": {},
   "outputs": [],
   "source": [
    "model_json = model.to_json()\n",
    "with open(\"C:/Users/admin/Desktop/New folder/model.json\",\"w\") as json_file:\n",
    "  json_file.write(model_json)"
   ]
  },
  {
   "cell_type": "code",
   "execution_count": 18,
   "id": "5f7d6ec7",
   "metadata": {},
   "outputs": [],
   "source": [
    "from keras.models import model_from_json"
   ]
  },
  {
   "cell_type": "code",
   "execution_count": 21,
   "id": "81108eff",
   "metadata": {},
   "outputs": [],
   "source": [
    "def predict_(image_path):\n",
    "    #Load the Model from Json File\n",
    "    json_file = open('C:/Users/admin/Desktop/New folder/model.json', 'r')\n",
    "    model_json_c = json_file.read()\n",
    "    json_file.close()\n",
    "    model_c = model_from_json(model_json_c)\n",
    "    #Load the weights\n",
    "    model_c.load_weights(\"C:/Users/admin/Desktop/New folder/best_model.h5\")\n",
    "    #Compile the model\n",
    "    opt = SGD(lr=1e-4, momentum=0.9)\n",
    "    model_c.compile(loss=\"categorical_crossentropy\", optimizer=opt,metrics=[\"accuracy\"])\n",
    "    #load the image you want to classify\n",
    "    image = cv2.imread(image_path)\n",
    "    image = cv2.resize(image, (224,224))\n",
    "    from IPython.display import Image\n",
    "    Image(image)\n",
    "    #predict the image\n",
    "    preds = model_c.predict(np.expand_dims(image, axis=0))[0]\n",
    "    if preds==0:\n",
    "        print(\"Predicted Label:Cat\")\n",
    "    else:\n",
    "        print(\"Predicted Label: Dog\")"
   ]
  },
  {
   "cell_type": "code",
   "execution_count": 23,
   "id": "eded1c4c",
   "metadata": {},
   "outputs": [
    {
     "name": "stdout",
     "output_type": "stream",
     "text": [
      "Predicted Label: Dog\n"
     ]
    }
   ],
   "source": [
    "predict_(\"C:/Users/admin/Desktop/ML/dog.jpg\")"
   ]
  },
  {
   "cell_type": "code",
   "execution_count": null,
   "id": "5e53d5e6",
   "metadata": {},
   "outputs": [],
   "source": []
  },
  {
   "cell_type": "code",
   "execution_count": null,
   "id": "9535b600",
   "metadata": {},
   "outputs": [],
   "source": []
  },
  {
   "cell_type": "code",
   "execution_count": null,
   "id": "713a0879",
   "metadata": {},
   "outputs": [],
   "source": []
  }
 ],
 "metadata": {
  "kernelspec": {
   "display_name": "Python 3",
   "language": "python",
   "name": "python3"
  },
  "language_info": {
   "codemirror_mode": {
    "name": "ipython",
    "version": 3
   },
   "file_extension": ".py",
   "mimetype": "text/x-python",
   "name": "python",
   "nbconvert_exporter": "python",
   "pygments_lexer": "ipython3",
   "version": "3.8.8"
  }
 },
 "nbformat": 4,
 "nbformat_minor": 5
}
